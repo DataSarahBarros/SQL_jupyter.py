{
 "cells": [
  {
   "cell_type": "code",
   "execution_count": 17,
   "id": "36d70de6",
   "metadata": {},
   "outputs": [],
   "source": [
    "import pandas as pd\n",
    "from pandasql import sqldf"
   ]
  },
  {
   "cell_type": "markdown",
   "id": "1d9ba225",
   "metadata": {},
   "source": [
    "*TRY* serve para controlar o impácto de um possível erro no código, ou seja, se o bloco *TRY* der erro ao excutar o py interrompe a excução e procura pelo bloco *EXCEPT*.\n",
    "Exemplo disso é ao carregar um arquivo:\n",
    "\n",
    "*DataFrame* é uma estutura de dados do pd - tabela bidimensional (tabela excel/bd sql)\n",
    "\n",
    "Função *read_csv* do pandas para ler o arquivo e armazenar no *DataFrame*"
   ]
  },
  {
   "cell_type": "code",
   "execution_count": null,
   "id": "2ada4e10",
   "metadata": {},
   "outputs": [
    {
     "name": "stdout",
     "output_type": "stream",
     "text": [
      "     Codigo                                       Produto    Preco\n",
      "0  BS001873                         Apple Lightning Cable   $21.99\n",
      "1  BS001874                     SanDisk Extreme microSDXC   $31.50\n",
      "2  BS001875            Seagate 2TB Expansion Portable HDD   $79.00\n",
      "3  BS001876  TicWatch Pro 3 Ultra GPS Smartwatch Qualcomm  $399.00\n",
      "4  BS001877                    Webcam HD 1080p Web Camera   $59.00\n"
     ]
    }
   ],
   "source": [
    "caminho_arquivo = 'C:/Users/sarin/OneDrive/sarah/DataBase/project_SQL/Data_Word/produtos.csv'\n",
    "\n",
    "try: \n",
    "    dataframe_csv = pd.read_csv(caminho_arquivo)\n",
    "    print(dataframe_csv.head())\n",
    "\n",
    "except FileNotFoundError:\n",
    "    print(f\"Erro: Arquivo não encontrado no caminho: {caminho_arquivo}\")\n",
    "    dataframe_csv = None\n",
    "except Exception as e:\n",
    "    print(f\"Ocorreu um erro ao ler o arquivo CSV: {e}\")\n",
    "    dataframe_csv = None"
   ]
  },
  {
   "cell_type": "code",
   "execution_count": 24,
   "id": "0d95681c",
   "metadata": {},
   "outputs": [
    {
     "name": "stdout",
     "output_type": "stream",
     "text": [
      "\n",
      "Resultado da consulta SQL:\n",
      "     Codigo                                       Produto    Preco\n",
      "0  BS001873                         Apple Lightning Cable   $21.99\n",
      "1  BS001874                     SanDisk Extreme microSDXC   $31.50\n",
      "2  BS001875            Seagate 2TB Expansion Portable HDD   $79.00\n",
      "3  BS001876  TicWatch Pro 3 Ultra GPS Smartwatch Qualcomm  $399.00\n",
      "4  BS001877                    Webcam HD 1080p Web Camera   $59.00\n"
     ]
    }
   ],
   "source": [
    "if dataframe_csv is not None:\n",
    "    pysqldf = lambda q: sqldf(q, globals())\n",
    "\n",
    "    query = \"\"\"\n",
    "    SELECT * FROM dataframe_csv;\n",
    "    \"\"\"\n",
    "    df_resultado_sql = pysqldf(query)\n",
    "\n",
    "    print('\\nResultado da consulta SQL:')\n",
    "    print(df_resultado_sql.head())"
   ]
  },
  {
   "cell_type": "code",
   "execution_count": null,
   "id": "05a54643",
   "metadata": {},
   "outputs": [],
   "source": []
  }
 ],
 "metadata": {
  "kernelspec": {
   "display_name": "Python 3",
   "language": "python",
   "name": "python3"
  },
  "language_info": {
   "codemirror_mode": {
    "name": "ipython",
    "version": 3
   },
   "file_extension": ".py",
   "mimetype": "text/x-python",
   "name": "python",
   "nbconvert_exporter": "python",
   "pygments_lexer": "ipython3",
   "version": "3.11.9"
  }
 },
 "nbformat": 4,
 "nbformat_minor": 5
}
