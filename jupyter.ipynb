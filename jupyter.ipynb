{
 "cells": [
  {
   "cell_type": "code",
   "execution_count": 14,
   "id": "36d70de6",
   "metadata": {},
   "outputs": [],
   "source": [
    "import pandas as pd\n",
    "from pandasql import sqldf"
   ]
  },
  {
   "cell_type": "markdown",
   "id": "1d9ba225",
   "metadata": {},
   "source": [
    "##Trazendo dados da tabela DIMENSÃO produtos"
   ]
  },
  {
   "cell_type": "code",
   "execution_count": 15,
   "id": "2ada4e10",
   "metadata": {},
   "outputs": [
    {
     "name": "stdout",
     "output_type": "stream",
     "text": [
      "     Codigo                                       Produto    Preco\n",
      "0  BS001873                         Apple Lightning Cable   $21.99\n",
      "1  BS001874                     SanDisk Extreme microSDXC   $31.50\n",
      "2  BS001875            Seagate 2TB Expansion Portable HDD   $79.00\n",
      "3  BS001876  TicWatch Pro 3 Ultra GPS Smartwatch Qualcomm  $399.00\n",
      "4  BS001877                    Webcam HD 1080p Web Camera   $59.00\n"
     ]
    }
   ],
   "source": [
    "caminho_arquivo = 'C:/Users/sarin/OneDrive/sarah/DataBase/SQL_jupyter.py/Data_Word/produtos.csv'\n",
    "\n",
    "try: \n",
    "    dataframe_produtos = pd.read_csv(caminho_arquivo)\n",
    "    print(dataframe_produtos.head())\n",
    "\n",
    "except FileNotFoundError:\n",
    "    print(f\"Erro: Arquivo não encontrado no caminho: {caminho_arquivo}\")\n",
    "    dataframe_produtos = None\n",
    "except Exception as e:\n",
    "    print(f\"Ocorreu um erro ao ler o arquivo CSV: {e}\")\n",
    "    dataframe_produtos = None"
   ]
  },
  {
   "cell_type": "code",
   "execution_count": 16,
   "id": "0d95681c",
   "metadata": {},
   "outputs": [
    {
     "name": "stdout",
     "output_type": "stream",
     "text": [
      "\n",
      "Resultado da consulta SQL:\n",
      "     Codigo                                       Produto    Preco\n",
      "0  BS001873                         Apple Lightning Cable   $21.99\n",
      "1  BS001874                     SanDisk Extreme microSDXC   $31.50\n",
      "2  BS001875            Seagate 2TB Expansion Portable HDD   $79.00\n",
      "3  BS001876  TicWatch Pro 3 Ultra GPS Smartwatch Qualcomm  $399.00\n",
      "4  BS001877                    Webcam HD 1080p Web Camera   $59.00\n"
     ]
    }
   ],
   "source": [
    "if dataframe_produtos is not None:\n",
    "    pysqldf = lambda q: sqldf(q, globals())\n",
    "\n",
    "    query = \"\"\"\n",
    "    SELECT * FROM dataframe_produtos;\n",
    "    \"\"\"\n",
    "    df_resultado_sql = pysqldf(query)\n",
    "\n",
    "    print('\\nResultado da consulta SQL:')\n",
    "    print(df_resultado_sql.head())"
   ]
  },
  {
   "cell_type": "markdown",
   "id": "f36e9082",
   "metadata": {},
   "source": [
    "##Trazendo dados da tabela FATO vendas"
   ]
  },
  {
   "cell_type": "code",
   "execution_count": 17,
   "id": "05a54643",
   "metadata": {},
   "outputs": [
    {
     "name": "stdout",
     "output_type": "stream",
     "text": [
      "              Order ID       Date ship-service-level    Style    Codigo  \\\n",
      "0  171-8536041-9190708  6/29/2022          Expedited   SET400  BS001879   \n",
      "1  407-4176879-6571509  6/29/2022          Expedited  JNE3486  BS001890   \n",
      "2  404-4382011-4681149  6/29/2022          Expedited  JNE3887  BS001873   \n",
      "3  406-3412504-2471555  6/29/2022          Expedited  JNE3487  BS001888   \n",
      "4  408-2481787-8248368  6/29/2022          Expedited  JNE3566  BS001898   \n",
      "\n",
      "  Courier Status  Qty ship-country Fulfillment  \n",
      "0      Cancelled    4           AU         Yes  \n",
      "1      Cancelled    2           BR         Yes  \n",
      "2      Cancelled    2           BR         Yes  \n",
      "3      Cancelled    2           BR         Yes  \n",
      "4      Cancelled    2           BR         Yes  \n"
     ]
    }
   ],
   "source": [
    "caminho_arquivo = 'C:/Users/sarin/OneDrive/sarah/DataBase/SQL_jupyter.py/Data_Word/vendas.csv'\n",
    "\n",
    "try: \n",
    "    dataframe_vendas = pd.read_csv(caminho_arquivo)\n",
    "    print(dataframe_vendas.head())\n",
    "\n",
    "except FileNotFoundError:\n",
    "    print(f\"Erro: Arquivo não encontrado no caminho: {caminho_arquivo}\")\n",
    "    dataframe_vendas = None\n",
    "except Exception as e:\n",
    "    print(f\"Ocorreu um erro ao ler o arquivo CSV: {e}\")\n",
    "    dataframe_vendas = None"
   ]
  },
  {
   "cell_type": "code",
   "execution_count": 18,
   "id": "8f2298c6",
   "metadata": {},
   "outputs": [
    {
     "name": "stdout",
     "output_type": "stream",
     "text": [
      "\n",
      "Resultado da consulta SQL:\n",
      "              Order ID       Date ship-service-level    Style    Codigo  \\\n",
      "0  171-8536041-9190708  6/29/2022          Expedited   SET400  BS001879   \n",
      "1  407-4176879-6571509  6/29/2022          Expedited  JNE3486  BS001890   \n",
      "2  404-4382011-4681149  6/29/2022          Expedited  JNE3887  BS001873   \n",
      "3  406-3412504-2471555  6/29/2022          Expedited  JNE3487  BS001888   \n",
      "4  408-2481787-8248368  6/29/2022          Expedited  JNE3566  BS001898   \n",
      "\n",
      "  Courier Status  Qty ship-country Fulfillment  \n",
      "0      Cancelled    4           AU         Yes  \n",
      "1      Cancelled    2           BR         Yes  \n",
      "2      Cancelled    2           BR         Yes  \n",
      "3      Cancelled    2           BR         Yes  \n",
      "4      Cancelled    2           BR         Yes  \n"
     ]
    }
   ],
   "source": [
    "if dataframe_vendas is not None:\n",
    "    pysqldf = lambda q: sqldf(q, globals())\n",
    "\n",
    "    query = \"\"\"\n",
    "    SELECT * FROM dataframe_vendas;\n",
    "    \"\"\"\n",
    "    df_resultado_sql = pysqldf(query)\n",
    "\n",
    "    print('\\nResultado da consulta SQL:')\n",
    "    print(df_resultado_sql.head())"
   ]
  },
  {
   "cell_type": "code",
   "execution_count": 19,
   "id": "caf6380e",
   "metadata": {},
   "outputs": [
    {
     "name": "stdout",
     "output_type": "stream",
     "text": [
      "Colunas de dataframe_produtos: Index(['Codigo', 'Produto', 'Preco'], dtype='object')\n",
      "Colunas de dataframe_vendas: Index(['Order ID', 'Date', 'ship-service-level', 'Style', 'Codigo',\n",
      "       'Courier Status', 'Qty', 'ship-country', 'Fulfillment'],\n",
      "      dtype='object')\n"
     ]
    }
   ],
   "source": [
    "if dataframe_produtos is not None:\n",
    "    print(\"Colunas de dataframe_produtos:\", dataframe_produtos.columns)\n",
    "if dataframe_vendas is not None:\n",
    "    print(\"Colunas de dataframe_vendas:\", dataframe_vendas.columns)"
   ]
  },
  {
   "cell_type": "markdown",
   "id": "bee3909b",
   "metadata": {},
   "source": [
    "##Filtrar produtos pelo preço"
   ]
  },
  {
   "cell_type": "code",
   "execution_count": null,
   "id": "ebc65c78",
   "metadata": {},
   "outputs": [
    {
     "name": "stdout",
     "output_type": "stream",
     "text": [
      "Colunas de dataframe_produtos: Index(['Codigo', 'Produto', 'Preco'], dtype='object')\n",
      "Colunas de dataframe_vendas: Index(['Order ID', 'Date', 'ship-service-level', 'Style', 'Codigo',\n",
      "       'Courier Status', 'Qty', 'ship-country', 'Fulfillment'],\n",
      "      dtype='object')\n",
      "\n",
      "View de Produtos com Vendas (Preço > 50 e Quantidade > 10):\n",
      "\n",
      "Empty DataFrame\n",
      "Columns: [Codigo, Produto, Preco, Qty]\n",
      "Index: []\n"
     ]
    }
   ],
   "source": [
    "if dataframe_produtos is not None:\n",
    "    print(\"Colunas de dataframe_produtos:\", dataframe_produtos.columns)\n",
    "if dataframe_vendas is not None:\n",
    "    print(\"Colunas de dataframe_vendas:\", dataframe_vendas.columns)\n",
    "\n",
    "if dataframe_produtos is not None and dataframe_vendas is not None:\n",
    "    pysqldf = lambda q: sqldf(q, globals())\n",
    "\n",
    "    create_view = \"\"\"\n",
    "    SELECT \n",
    "        p.Codigo,\n",
    "        p.Produto,\n",
    "        p.Preco,\n",
    "        v.Qty\n",
    "    FROM \n",
    "        dataframe_produtos p\n",
    "    JOIN \n",
    "        dataframe_vendas v ON p.Codigo = v.Codigo\n",
    "    WHERE \n",
    "        p.Preco > 50 AND v.Qty > 10\n",
    "    \"\"\"\n",
    "\n",
    "    view_df = pysqldf(create_view)\n",
    "\n",
    "    print(\"\\nView de Produtos com Vendas (Preço > 50 e Quantidade > 10):\\n\")\n",
    "    print(view_df.head())\n",
    "else:\n",
    "    print(\"\\nNão foi possível criar a view devido a erros na leitura dos arquivos.\")"
   ]
  },
  {
   "cell_type": "markdown",
   "id": "8d1b96c9",
   "metadata": {},
   "source": [
    "##Calcular o preço médio dos produtos"
   ]
  },
  {
   "cell_type": "code",
   "execution_count": null,
   "id": "bec82c0e",
   "metadata": {},
   "outputs": [
    {
     "name": "stdout",
     "output_type": "stream",
     "text": [
      "\n",
      "Preço Médio dos Produtos:\n",
      "   PrecoMedio\n",
      "0  162.147586\n"
     ]
    }
   ],
   "source": [
    "if dataframe_produtos['Preco'] is not None:\n",
    "\n",
    "        pysqldf = lambda q: sqldf(q, globals())\n",
    "\n",
    "        query_preco_medio = \"\"\"\n",
    "        SELECT AVG(Preco) AS PrecoMedio\n",
    "        FROM dataframe_produtos;\n",
    "        \"\"\"\n",
    "        df_preco_medio = pysqldf(query_preco_medio)\n",
    "        print(\"\\nPreço Médio dos Produtos:\")\n",
    "        print(df_preco_medio)\n",
    "\n",
    "else:\n",
    "        print(\"\\nNão foi possível calcular o preço médio devido a erros na conversão da coluna Preco.\")"
   ]
  },
  {
   "cell_type": "markdown",
   "id": "23215223",
   "metadata": {},
   "source": [
    "##Ordenar os produtos por preço em ordem decrescente:"
   ]
  },
  {
   "cell_type": "code",
   "execution_count": null,
   "id": "a68f44af",
   "metadata": {},
   "outputs": [
    {
     "name": "stdout",
     "output_type": "stream",
     "text": [
      "\n",
      "Ordem de Preço:\n",
      "      Codigo                                            Produto   Preco\n",
      "0   BS001888    LEGO Ideas Home Alone McCallisters’ House 21330  449.00\n",
      "1   BS001876       TicWatch Pro 3 Ultra GPS Smartwatch Qualcomm  399.00\n",
      "2   BS001894  Sony WH1000XM4 Noise Canceling Wireless Headph...  385.00\n",
      "3   BS001890                       Nintendo Switch Console Lite  329.95\n",
      "4   BS001891    PHILIPS Sonicare 9900 Prestige Power Toothbrush  329.00\n",
      "5   BS001883                                  Apple AirPods Pro  309.00\n",
      "6   BS001879                        Samsung T37F Monitor UHD 37  299.00\n",
      "7   BS001901                 LG 29WL50S - 29 inch UltraWide UHD  279.00\n",
      "8   BS001898                     Apple AirPods (3rd Generation)  257.00\n",
      "9   BS001892                            Kindle Paperwhite (8GB)  239.00\n",
      "10  BS001900  YABER WiFi Projector Mini Portable Projector 6...  218.00\n",
      "11  BS001880  HyperX QuadCast S – RGB USB Condenser Micropho...  213.00\n",
      "12  BS001886  Withings BPM Connect Wireless Blood Pressure M...  179.00\n",
      "13  BS001897                            New Apple AirTag 4 Pack  149.00\n",
      "14  BS001875                 Seagate 2TB Expansion Portable HDD   79.00\n",
      "15  BS001887         LEGO Ideas 21319 Central Perk Building Kit   69.00\n",
      "16  BS001881        TP-Link Tapo Pan/Tilt Smart Security Camera   66.43\n",
      "17  BS001877                         Webcam HD 1080p Web Camera   59.00\n",
      "18  BS001899                              Apple MagSafe Charger   57.00\n",
      "19  BS001895                   Google Chromecast 3rd Generation   55.00\n",
      "20  BS001882  HEYMIX Powerboard, Power Strip with 8 Outlets,...   52.49\n",
      "21  BS001884  Digital Blood Pressure Monitor with Large Colo...   49.95\n",
      "22  BS001878  Logitech MK270R Wireless Keyboard and Mouse Combo   38.00\n",
      "23  BS001896                           Charmast Mini Power Bank   37.99\n",
      "24  BS001874                          SanDisk Extreme microSDXC   31.50\n",
      "25  BS001873                              Apple Lightning Cable   21.99\n",
      "26  BS001885  Fingertip Pulse Oximeter, Blood Oxygen Saturation   21.99\n",
      "27  BS001889               Taco Cat Goat Cheese Pizza Card Game   14.99\n",
      "28  BS001893    Apple Lightning to 3.5mm Headphone Jack Adapter   14.00\n"
     ]
    }
   ],
   "source": [
    "if dataframe_produtos is not None and 'Preco' in dataframe_produtos:\n",
    "    pysqldf = lambda q: sqldf(q, globals())\n",
    "\n",
    "    query_preco_medio = \"\"\"\n",
    "    SELECT \n",
    "        Codigo, \n",
    "        Produto, \n",
    "        Preco \n",
    "    FROM dataframe_produtos\n",
    "    ORDER BY Preco DESC;\n",
    "    \"\"\"\n",
    "    df_preco_medio = pysqldf(query_preco_medio)\n",
    "    print(\"\\nOrdem de Preço:\")\n",
    "    print(df_preco_medio)\n",
    "\n",
    "else:\n",
    "    print(\"\\nNão foi possível ordenar os produtos por preço do maior para o menor.\")\n",
    "    if dataframe_produtos is None:\n",
    "        print(\"Erro: dataframe_produtos não foi carregado corretamente.\")\n",
    "    elif 'Preco' not in dataframe_produtos:\n",
    "        print(\"Erro: A coluna 'Preco' não existe no dataframe_produtos.\")"
   ]
  }
 ],
 "metadata": {
  "kernelspec": {
   "display_name": "Python 3",
   "language": "python",
   "name": "python3"
  },
  "language_info": {
   "codemirror_mode": {
    "name": "ipython",
    "version": 3
   },
   "file_extension": ".py",
   "mimetype": "text/x-python",
   "name": "python",
   "nbconvert_exporter": "python",
   "pygments_lexer": "ipython3",
   "version": "3.11.9"
  }
 },
 "nbformat": 4,
 "nbformat_minor": 5
}
